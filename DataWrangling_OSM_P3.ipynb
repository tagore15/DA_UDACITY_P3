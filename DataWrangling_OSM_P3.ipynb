{
 "cells": [
  {
   "cell_type": "code",
   "execution_count": null,
   "metadata": {
    "collapsed": true
   },
   "outputs": [],
   "source": [
    "#!/usr/bin/env python\n",
    "# -*- coding: utf-8 -*-\n",
    "import xml.etree.cElementTree as ET\n",
    "import pprint\n",
    "import re\n",
    "import codecs\n",
    "import json\n",
    "\"\"\"\n",
    "Your task is to wrangle the data and transform the shape of the data\n",
    "into the model we mentioned earlier. The output should be a list of dictionaries\n",
    "that look like this:\n",
    "\n",
    "{\n",
    "\"id\": \"2406124091\",\n",
    "\"type: \"node\",\n",
    "\"visible\":\"true\",\n",
    "\"created\": {\n",
    "          \"version\":\"2\",\n",
    "          \"changeset\":\"17206049\",\n",
    "          \"timestamp\":\"2013-08-03T16:43:42Z\",\n",
    "          \"user\":\"linuxUser16\",\n",
    "          \"uid\":\"1219059\"\n",
    "        },\n",
    "\"pos\": [41.9757030, -87.6921867],\n",
    "\"address\": {\n",
    "          \"housenumber\": \"5157\",\n",
    "          \"postcode\": \"60625\",\n",
    "          \"street\": \"North Lincoln Ave\"\n",
    "        },\n",
    "\"amenity\": \"restaurant\",\n",
    "\"cuisine\": \"mexican\",\n",
    "\"name\": \"La Cabana De Don Luis\",\n",
    "\"phone\": \"1 (773)-271-5176\"\n",
    "}\n",
    "\n",
    "You have to complete the function 'shape_element'.\n",
    "We have provided a function that will parse the map file, and call the function with the element\n",
    "as an argument. You should return a dictionary, containing the shaped data for that element.\n",
    "We have also provided a way to save the data in a file, so that you could use\n",
    "mongoimport later on to import the shaped data into MongoDB. \n",
    "\n",
    "Note that in this exercise we do not use the 'update street name' procedures\n",
    "you worked on in the previous exercise. If you are using this code in your final\n",
    "project, you are strongly encouraged to use the code from previous exercise to \n",
    "update the street names before you save them to JSON. \n",
    "\n",
    "In particular the following things should be done:\n",
    "- you should process only 2 types of top level tags: \"node\" and \"way\"\n",
    "- all attributes of \"node\" and \"way\" should be turned into regular key/value pairs, except:\n",
    "    - attributes in the CREATED array should be added under a key \"created\"\n",
    "    - attributes for latitude and longitude should be added to a \"pos\" array,\n",
    "      for use in geospacial indexing. Make sure the values inside \"pos\" array are floats\n",
    "      and not strings. \n",
    "- if the second level tag \"k\" value contains problematic characters, it should be ignored\n",
    "- if the second level tag \"k\" value starts with \"addr:\", it should be added to a dictionary \"address\"\n",
    "- if the second level tag \"k\" value does not start with \"addr:\", but contains \":\", you can\n",
    "  process it in a way that you feel is best. For example, you might split it into a two-level\n",
    "  dictionary like with \"addr:\", or otherwise convert the \":\" to create a valid key.\n",
    "- if there is a second \":\" that separates the type/direction of a street,\n",
    "  the tag should be ignored, for example:\n",
    "\n",
    "<tag k=\"addr:housenumber\" v=\"5158\"/>\n",
    "<tag k=\"addr:street\" v=\"North Lincoln Avenue\"/>\n",
    "<tag k=\"addr:street:name\" v=\"Lincoln\"/>\n",
    "<tag k=\"addr:street:prefix\" v=\"North\"/>\n",
    "<tag k=\"addr:street:type\" v=\"Avenue\"/>\n",
    "<tag k=\"amenity\" v=\"pharmacy\"/>\n",
    "\n",
    "  should be turned into:\n",
    "\n",
    "{...\n",
    "\"address\": {\n",
    "    \"housenumber\": 5158,\n",
    "    \"street\": \"North Lincoln Avenue\"\n",
    "}\n",
    "\"amenity\": \"pharmacy\",\n",
    "...\n",
    "}\n",
    "\n",
    "- for \"way\" specifically:\n",
    "\n",
    "  <nd ref=\"305896090\"/>\n",
    "  <nd ref=\"1719825889\"/>\n",
    "\n",
    "should be turned into\n",
    "\"node_refs\": [\"305896090\", \"1719825889\"]\n",
    "\"\"\"\n",
    "\n",
    "\n",
    "lower = re.compile(r'^([a-z]|_)*$')\n",
    "lower_colon = re.compile(r'^([a-z]|_)*:([a-z]|_)*$')\n",
    "problemchars = re.compile(r'[=\\+/&<>;\\'\"\\?%#$@\\,\\. \\t\\r\\n]')\n",
    "\n",
    "CREATED = [ \"version\", \"changeset\", \"timestamp\", \"user\", \"uid\"]\n",
    "\n",
    "\n",
    "def shape_element(element):\n",
    "    node = {}\n",
    "    if element.tag == \"node\" or element.tag == \"way\" :\n",
    "        # YOUR CODE HERE\n",
    "        if element.tag == \"node\":\n",
    "            node[\"pos\"] = []\n",
    "            node[\"pos\"].append(float(element.get(\"lat\")))\n",
    "            node[\"pos\"].append(float(element.get(\"lon\")))\n",
    "            node[\"type\"] = \"node\"\n",
    "        else:\n",
    "            node[\"type\"] = \"way\"\n",
    "        for k in element.keys():\n",
    "            if k in CREATED:\n",
    "                if \"created\" not in node:\n",
    "                    node[\"created\"] = {}\n",
    "                node[\"created\"][k] = element.get(k)\n",
    "            elif k not in [\"lat\", \"lon\"]:\n",
    "                node[k] = element.get(k)\n",
    "                \n",
    "        for e in element.iter():\n",
    "            if e.tag == \"tag\":\n",
    "                k_value = e.get(\"k\")\n",
    "                v_value = e.get(\"v\")\n",
    "                if re.search(problemchars, k_value):\n",
    "                    continue\n",
    "                m = re.search(lower_colon, k_value)\n",
    "                if m:\n",
    "                    splits = k_value.split(\":\")\n",
    "                    if k_value.startswith(\"addr:\"):\n",
    "                        if \"address\" not in node:\n",
    "                            node[\"address\"] = {}\n",
    "                        node[\"address\"][splits[1]] = v_value\n",
    "                else:\n",
    "                    node[k_value] = v_value\n",
    "            if e.tag == \"nd\":\n",
    "                if \"node_refs\" not in node:\n",
    "                    node[\"node_refs\"] = []\n",
    "                node[\"node_refs\"].append(e.get(\"ref\"))\n",
    "        return node\n",
    "    else:\n",
    "        return None\n",
    "\n",
    "\n",
    "def process_map(file_in, pretty = False):\n",
    "    # You do not need to change this file\n",
    "    file_out = \"{0}.json\".format(file_in)\n",
    "    #data = []\n",
    "    with codecs.open(file_out, \"w\") as fo:\n",
    "        #context = ET.iterparse(file_in)\n",
    "        #context = iter(context)\n",
    "        #event,root = context.next()\n",
    "        for _, element in ET.iterparse(file_in):\n",
    "        #for event, element in context:\n",
    "            el = shape_element(element)\n",
    "            if el:\n",
    "                #data.append(el)\n",
    "                if pretty:\n",
    "                    fo.write(json.dumps(el, indent=2)+\"\\n\")\n",
    "                else:\n",
    "                    fo.write(json.dumps(el) + \"\\n\")\n",
    "            if element.tag == \"node\" or element.tag == \"way\":\n",
    "                element.clear()\n",
    "    #return data"
   ]
  },
  {
   "cell_type": "code",
   "execution_count": null,
   "metadata": {
    "collapsed": false
   },
   "outputs": [],
   "source": [
    "process_map(\"new-delhi_india.osm\")"
   ]
  },
  {
   "cell_type": "markdown",
   "metadata": {
    "collapsed": true
   },
   "source": []
  },
  {
   "cell_type": "code",
   "execution_count": 1,
   "metadata": {
    "collapsed": true
   },
   "outputs": [],
   "source": [
    "import pymongo"
   ]
  },
  {
   "cell_type": "code",
   "execution_count": 2,
   "metadata": {
    "collapsed": true
   },
   "outputs": [],
   "source": [
    "from pymongo import MongoClient"
   ]
  },
  {
   "cell_type": "code",
   "execution_count": 3,
   "metadata": {
    "collapsed": true
   },
   "outputs": [],
   "source": [
    "client = MongoClient(\"mongodb://localhost:27017\")"
   ]
  },
  {
   "cell_type": "code",
   "execution_count": 4,
   "metadata": {
    "collapsed": true
   },
   "outputs": [],
   "source": [
    "db = client.test"
   ]
  },
  {
   "cell_type": "code",
   "execution_count": 5,
   "metadata": {
    "collapsed": false
   },
   "outputs": [
    {
     "data": {
      "text/plain": [
       "Database(MongoClient(host=['localhost:27017'], document_class=dict, tz_aware=False, connect=True), u'test')"
      ]
     },
     "execution_count": 5,
     "metadata": {},
     "output_type": "execute_result"
    }
   ],
   "source": [
    "db"
   ]
  },
  {
   "cell_type": "code",
   "execution_count": null,
   "metadata": {
    "collapsed": false
   },
   "outputs": [],
   "source": [
    "#agg = db..aggregate([{\"$match\":{\"created.user\":\"sourabh2910\"}}])"
   ]
  },
  {
   "cell_type": "code",
   "execution_count": 6,
   "metadata": {
    "collapsed": false
   },
   "outputs": [
    {
     "data": {
      "text/plain": [
       "{u'_id': ObjectId('5753b18fb397fe16bb193dd9'),\n",
       " u'capital': u'2',\n",
       " u'created': {u'changeset': u'39241310',\n",
       "  u'timestamp': u'2016-05-11T12:48:13Z',\n",
       "  u'uid': u'290271',\n",
       "  u'user': u'Zverik',\n",
       "  u'version': u'48'},\n",
       " u'id': u'16173236',\n",
       " u'is_capital': u'country',\n",
       " u'is_in': u'National Capital Region, NCR, India',\n",
       " u'is_in:iso_3166_2': u'IN-DL',\n",
       " u'name': u'New Delhi',\n",
       " u'name:bat-smg': u'Naujas\\u0117s Del\\u0117s',\n",
       " u'name:be-tarask': u'\\u041d\\u044c\\u044e-\\u0414\\u044d\\u043b\\u0456',\n",
       " u'name:cbk-zam': u'Nueva Delhi',\n",
       " u'name:fiu-vro': u'New Delhi',\n",
       " u'name:zh-min-nan': u'Sin Delhi',\n",
       " u'name:zh-yue': u'\\u65b0\\u5fb7\\u91cc',\n",
       " u'place': u'city',\n",
       " u'population': u'249998',\n",
       " u'pos': [28.6138967, 77.2159562],\n",
       " u'type': u'node',\n",
       " u'wikipedia': u'en:New Delhi'}"
      ]
     },
     "execution_count": 6,
     "metadata": {},
     "output_type": "execute_result"
    }
   ],
   "source": [
    "db.delhi.find_one()"
   ]
  },
  {
   "cell_type": "markdown",
   "metadata": {},
   "source": [
    "mongoimport.exe --db test --collection delhi --file \"H:\\ADATA_ANALYST_NANODEGREE...\\new_de....json\""
   ]
  },
  {
   "cell_type": "code",
   "execution_count": null,
   "metadata": {
    "collapsed": false
   },
   "outputs": [],
   "source": [
    "pprint.pprint(list(agg))"
   ]
  },
  {
   "cell_type": "code",
   "execution_count": 7,
   "metadata": {
    "collapsed": false
   },
   "outputs": [
    {
     "data": {
      "text/plain": [
       "[u'122001',\n",
       " u'110003',\n",
       " u'110025',\n",
       " u'110011',\n",
       " u'110070',\n",
       " u'122018',\n",
       " u'110067',\n",
       " u'122002',\n",
       " u'110017',\n",
       " u'110002',\n",
       " u'110060',\n",
       " u'100006',\n",
       " u'2242',\n",
       " u'11008',\n",
       " u'110007',\n",
       " u'201014',\n",
       " u'201301',\n",
       " u'110042',\n",
       " u'250003',\n",
       " u'201307',\n",
       " u'110065',\n",
       " u'110055',\n",
       " u'110054',\n",
       " u'110015',\n",
       " u'110078',\n",
       " u'201001',\n",
       " u'122011',\n",
       " u'201011',\n",
       " u'110092',\n",
       " u'110021',\n",
       " u'122016',\n",
       " u'110016',\n",
       " u'110085',\n",
       " u'110047',\n",
       " u'110075',\n",
       " u'110043',\n",
       " u'1100016',\n",
       " u'020626',\n",
       " u'420420',\n",
       " u'110029',\n",
       " u'1100049',\n",
       " u'110074',\n",
       " u'110048',\n",
       " u'110096',\n",
       " u'121003',\n",
       " u'110005',\n",
       " u'122017',\n",
       " u'201002',\n",
       " u'201010',\n",
       " u'110034',\n",
       " u'110008',\n",
       " u'110088',\n",
       " u'110001',\n",
       " u'110035',\n",
       " u'110091',\n",
       " u'Sunpat House Village',\n",
       " u'122003',\n",
       " u'110032',\n",
       " u'110094',\n",
       " u'110093',\n",
       " u'110084',\n",
       " u'110014',\n",
       " u'203202',\n",
       " u'201303',\n",
       " u'110058',\n",
       " u'110062',\n",
       " u'110076',\n",
       " u'110087',\n",
       " u'2013010',\n",
       " u'101301',\n",
       " u'201308',\n",
       " u'110006',\n",
       " u'201005',\n",
       " u'110018',\n",
       " u'10089',\n",
       " u'110089',\n",
       " u'201306',\n",
       " u'110026',\n",
       " u'110009',\n",
       " u'122105',\n",
       " u'110019',\n",
       " u'110077',\n",
       " u'sdf',\n",
       " u'110049',\n",
       " u'124507',\n",
       " u'121004',\n",
       " u'110092 ',\n",
       " u'110052',\n",
       " u'110 067',\n",
       " u'201009',\n",
       " u'110024',\n",
       " u'110020',\n",
       " u'121008',\n",
       " u'78703',\n",
       " u'201007',\n",
       " u'110037',\n",
       " u'1100002',\n",
       " u'121002',\n",
       " u'121001',\n",
       " u'110044',\n",
       " u'250004',\n",
       " u'201304',\n",
       " u'110 001',\n",
       " u'110010',\n",
       " u'110023',\n",
       " u'110022',\n",
       " u'110031v',\n",
       " u'203207',\n",
       " u'2010',\n",
       " u'20134',\n",
       " u'201305',\n",
       " u'110064',\n",
       " u'110030',\n",
       " u'201309',\n",
       " u'201314',\n",
       " u'122103',\n",
       " u'122102',\n",
       " u'110053']"
      ]
     },
     "execution_count": 7,
     "metadata": {},
     "output_type": "execute_result"
    }
   ],
   "source": [
    "db.delhi.distinct(\"address.postcode\")"
   ]
  },
  {
   "cell_type": "markdown",
   "metadata": {},
   "source": [
    "Validity/Accuracy Issues with postcode\n",
    "- Not all digits\n",
    "- Not all 6 digits\n",
    "Correction Needed\n",
    "- Don't put errorneous data\n",
    "- If only space is problem, remove space"
   ]
  },
  {
   "cell_type": "code",
   "execution_count": 8,
   "metadata": {
    "collapsed": false,
    "scrolled": true
   },
   "outputs": [
    {
     "data": {
      "text/plain": [
       "[u'cafe',\n",
       " u'bank',\n",
       " u'fuel',\n",
       " u'hospital',\n",
       " u'post_office',\n",
       " u'atm',\n",
       " u'pharmacy',\n",
       " u'bus_station',\n",
       " u'school',\n",
       " u'restaurant',\n",
       " u'fast_food',\n",
       " u'pub',\n",
       " u'place_of_worship',\n",
       " u'post_box',\n",
       " u'telephone',\n",
       " u'public_building',\n",
       " u'cinema',\n",
       " u'parking',\n",
       " u'bureau_de_change',\n",
       " u'police',\n",
       " u'embassy',\n",
       " u'college',\n",
       " u'university',\n",
       " u'fire_station',\n",
       " u'taxi',\n",
       " u'kindergarten',\n",
       " u'bar',\n",
       " u'toilets',\n",
       " u'grave_yard',\n",
       " u'biergarten',\n",
       " u'library',\n",
       " u'Ksan Ghat',\n",
       " u'veterinary',\n",
       " u'marketplace',\n",
       " u'dentist',\n",
       " u'doctors',\n",
       " u'club',\n",
       " u'theatre',\n",
       " u'Netaji Nagar Market',\n",
       " u'Suvidha Market, Netaji Nagar',\n",
       " u'Ayurvedic Hospital',\n",
       " u'residential',\n",
       " u'House',\n",
       " u'car_rental',\n",
       " u'driving_school',\n",
       " u'drinking_water',\n",
       " u'swimming_pool',\n",
       " u'prison',\n",
       " u'fountain',\n",
       " u'waste_basket',\n",
       " u'Garbage Collection Units',\n",
       " u'vending_machine',\n",
       " u'clinic',\n",
       " u'architect',\n",
       " u'recycling',\n",
       " u'traffic education',\n",
       " u'car_wash',\n",
       " u'arts_centre',\n",
       " u'community_centre',\n",
       " u'bench',\n",
       " u'shelter',\n",
       " u'parking_entrance',\n",
       " u'parking_space',\n",
       " u'bicycle_parking',\n",
       " u'nursing_home',\n",
       " u'courthouse',\n",
       " u'orphanage',\n",
       " u'baby_hatch',\n",
       " u'studio',\n",
       " u'fairgrounds',\n",
       " u'community_hall',\n",
       " u'auditorium',\n",
       " u'Bawana Bus depot',\n",
       " u\"Delhi university women's college\",\n",
       " u'Electricity office',\n",
       " u'townhall',\n",
       " u'food_court',\n",
       " u'crematorium',\n",
       " u'community_center',\n",
       " u'social_facility',\n",
       " u'social_centre',\n",
       " u'School']"
      ]
     },
     "execution_count": 8,
     "metadata": {},
     "output_type": "execute_result"
    }
   ],
   "source": [
    "db.delhi.distinct(\"amenity\")"
   ]
  },
  {
   "cell_type": "markdown",
   "metadata": {},
   "source": [
    "Consistency Issue\n",
    "- doctors <-> clinic\n",
    "- school <-> School\n",
    "- pub <-> bar"
   ]
  },
  {
   "cell_type": "code",
   "execution_count": 9,
   "metadata": {
    "collapsed": false
   },
   "outputs": [
    {
     "data": {
      "text/plain": [
       "[u'monument',\n",
       " u'archaeological_site',\n",
       " u'ruins',\n",
       " u'memorial',\n",
       " u'Shiv Mandir Temple',\n",
       " u'city_gate',\n",
       " u'castle',\n",
       " u'wayside_shrine',\n",
       " u'fort',\n",
       " u'tomb',\n",
       " u'yes',\n",
       " u'mon']"
      ]
     },
     "execution_count": 9,
     "metadata": {},
     "output_type": "execute_result"
    }
   ],
   "source": [
    "db.delhi.distinct(\"historic\")"
   ]
  },
  {
   "cell_type": "markdown",
   "metadata": {},
   "source": [
    "This should be converted to a single flag to denote that is is a historical site."
   ]
  },
  {
   "cell_type": "code",
   "execution_count": null,
   "metadata": {
    "collapsed": true
   },
   "outputs": [],
   "source": [
    "# Number of historic sites\n",
    "# Numbers of schools\n",
    "# Number of Universities\n",
    "# Numbers of hospitals\n",
    "# Find all \"tourism\": \"attraction\" places\n",
    "# restaurant of chinese cuisine \"cuisine\": \"asian\", \"amenity\": \"restaurant\","
   ]
  },
  {
   "cell_type": "code",
   "execution_count": 26,
   "metadata": {
    "collapsed": false
   },
   "outputs": [],
   "source": [
    "agg = db.delhi.aggregate(\n",
    "    [\n",
    "        {\"$match\":{\"historic\":{\"$exists\":\"true\"}} },\n",
    "        {\"$group\":{\"_id\": \"historic\", \"count\": {\"$sum\":1} } }\n",
    "    ]\n",
    ")"
   ]
  },
  {
   "cell_type": "code",
   "execution_count": 27,
   "metadata": {
    "collapsed": false
   },
   "outputs": [
    {
     "name": "stdout",
     "output_type": "stream",
     "text": [
      "[{u'_id': u'historic', u'count': 189}]\n"
     ]
    }
   ],
   "source": [
    "import pprint\n",
    "pprint.pprint(list(agg))"
   ]
  },
  {
   "cell_type": "code",
   "execution_count": 32,
   "metadata": {
    "collapsed": true
   },
   "outputs": [],
   "source": [
    "agg = db.delhi.aggregate(\n",
    "    [\n",
    "        {\"$match\":{\"tourism\":\"attraction\"}},\n",
    "        {\"$project\":{\"name\":1, \"_id\":0}}\n",
    "    ]\n",
    ")"
   ]
  },
  {
   "cell_type": "code",
   "execution_count": 33,
   "metadata": {
    "collapsed": false
   },
   "outputs": [
    {
     "name": "stdout",
     "output_type": "stream",
     "text": [
      "[{u'name': u'South City - I Gate'},\n",
      " {u'name': u'11 Murthi'},\n",
      " {u'name': u'Teen Murti'},\n",
      " {u'name': u'Rashtrapati Bhawan'},\n",
      " {u'name': u'IFFCO Chowk'},\n",
      " {u'name': u'Zoo - National Zoological Park'},\n",
      " {u'name': u'Police Memorial'},\n",
      " {u'name': u'Jantar Mantar'},\n",
      " {u'name': u'Diwan-e-Aam'},\n",
      " {u'name': u'Diwan-e-Khaas'},\n",
      " {u'name': u'Purana Qila'},\n",
      " {u'name': u'Jaipur Column'},\n",
      " {u'name': u'Khooni Darwaza'},\n",
      " {u'name': u'Vijaymandal'},\n",
      " {u'name': u'Secret Passage'},\n",
      " {u'name': u'Sri Aurobindo Bust'},\n",
      " {u'name': u'Red Fort'},\n",
      " {u'name': u'Jama Masjid'},\n",
      " {u'name': u'Lotus Temple'},\n",
      " {u'name': u'India Gate'},\n",
      " {u'name': u'Mystery Rooms'},\n",
      " {u'name': u'Pragati Maidan'},\n",
      " {u'name': u'Delhi Haat'},\n",
      " {u'name': u'Salimgarh Fort'},\n",
      " {u'name': u'Qudsia Bagh'},\n",
      " {},\n",
      " {u'name': u'Qutub Minar'},\n",
      " {u'name': u\"Safdarjung's Tomb\"},\n",
      " {u'name': u'Hazar Ustun (Hall of Thousand Columns)'},\n",
      " {u'name': u'Ruins of Palatial Section of Jahanpanah'},\n",
      " {u'name': u'Kotla Firoz Shah'},\n",
      " {u'name': u'Meena Bazar'},\n",
      " {u'name': u'Tughlakabad Fort'},\n",
      " {u'name': u\"Ghiyas-ud-Din Tughlaq's Tomb\"},\n",
      " {u'name': u'Begumpur Mosque'},\n",
      " {u'name': u'Sheesh Mahal'},\n",
      " {u'name': u'Sheesh Mahal Pavilion'},\n",
      " {},\n",
      " {u'name': u\"Safdarjung's Tomb\"},\n",
      " {u'name': u\"William Fraser's Bungalow/Office of CAO, Northern Railway\"},\n",
      " {u'name': u'Khirki Masjid'},\n",
      " {u'name': u'Dum Duma Lake'},\n",
      " {u'name': u'Badkhal Lake'},\n",
      " {u'name': u'Naini Lake'},\n",
      " {},\n",
      " {u'name': u'Arab Sarai'},\n",
      " {u'name': u\"Barber's Tomb\"},\n",
      " {},\n",
      " {},\n",
      " {},\n",
      " {u'name': u'Moth Ki Masjid'},\n",
      " {u'name': u'Sher Mandal'},\n",
      " {u'name': u'Sultan Garhi'},\n",
      " {},\n",
      " {},\n",
      " {u'name': u'Idgah'},\n",
      " {u'name': u'Anglo Arabic Public School'},\n",
      " {},\n",
      " {},\n",
      " {u'name': u'National Gallery of Modern Art'},\n",
      " {},\n",
      " {u'name': u'North Pavilion'}]\n"
     ]
    }
   ],
   "source": [
    "pprint.pprint(list(agg))"
   ]
  },
  {
   "cell_type": "markdown",
   "metadata": {},
   "source": [
    "Can missing name be handled???"
   ]
  },
  {
   "cell_type": "code",
   "execution_count": 45,
   "metadata": {
    "collapsed": false
   },
   "outputs": [],
   "source": [
    "agg = db.delhi.aggregate([  \n",
    "        {\"$match\":{\"cuisine\":\"chinese\"}},\n",
    "        {\"$project\":{\"name\":1,\"_id\":0}}\n",
    "    ])"
   ]
  },
  {
   "cell_type": "code",
   "execution_count": 46,
   "metadata": {
    "collapsed": false
   },
   "outputs": [
    {
     "name": "stdout",
     "output_type": "stream",
     "text": [
      "[{u'name': u\"Berco's Garden\"},\n",
      " {},\n",
      " {u'name': u'Royal China'},\n",
      " {u'name': u'China Garden'},\n",
      " {u'name': u'Hao Shi Nian Nian'}]\n"
     ]
    }
   ],
   "source": [
    "pprint.pprint(list(agg))"
   ]
  },
  {
   "cell_type": "code",
   "execution_count": null,
   "metadata": {
    "collapsed": false
   },
   "outputs": [],
   "source": [
    "db.collection_names"
   ]
  },
  {
   "cell_type": "code",
   "execution_count": null,
   "metadata": {
    "collapsed": false
   },
   "outputs": [],
   "source": [
    "db.test"
   ]
  },
  {
   "cell_type": "code",
   "execution_count": null,
   "metadata": {
    "collapsed": false
   },
   "outputs": [],
   "source": [
    "db.pa.find_one()"
   ]
  },
  {
   "cell_type": "code",
   "execution_count": null,
   "metadata": {
    "collapsed": false
   },
   "outputs": [],
   "source": [
    "db.pa.count()"
   ]
  },
  {
   "cell_type": "code",
   "execution_count": null,
   "metadata": {
    "collapsed": false
   },
   "outputs": [],
   "source": [
    "db.pa.find_one({\"created.user\":'Zverik'})"
   ]
  },
  {
   "cell_type": "code",
   "execution_count": null,
   "metadata": {
    "collapsed": true
   },
   "outputs": [],
   "source": []
  }
 ],
 "metadata": {
  "kernelspec": {
   "display_name": "Python 2",
   "language": "python",
   "name": "python2"
  },
  "language_info": {
   "codemirror_mode": {
    "name": "ipython",
    "version": 2
   },
   "file_extension": ".py",
   "mimetype": "text/x-python",
   "name": "python",
   "nbconvert_exporter": "python",
   "pygments_lexer": "ipython2",
   "version": "2.7.11"
  }
 },
 "nbformat": 4,
 "nbformat_minor": 0
}
