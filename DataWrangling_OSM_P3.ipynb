{
 "cells": [
  {
   "cell_type": "markdown",
   "metadata": {},
   "source": [
    "# OpenStreetMap Data Analysis of New Delhi, India"
   ]
  },
  {
   "cell_type": "markdown",
   "metadata": {},
   "source": [
    "### Data Loading"
   ]
  },
  {
   "cell_type": "markdown",
   "metadata": {},
   "source": [
    "First we would extract information from OSM file in JSON format and use it to create MongoDb."
   ]
  },
  {
   "cell_type": "code",
   "execution_count": 1,
   "metadata": {
    "collapsed": false
   },
   "outputs": [],
   "source": [
    "# prcessOsm.py module contains functionality of converting OSM data of XML format into JSON format for mongodb import.\n",
    "# prcess_map takes flag to clean the data\n",
    "from processOsm import process_map"
   ]
  },
  {
   "cell_type": "code",
   "execution_count": 2,
   "metadata": {
    "collapsed": true
   },
   "outputs": [],
   "source": [
    "# This call generates JSON data corresponding to XML format of OSM\n",
    "process_map(\"new-delhi_india.osm\")"
   ]
  },
  {
   "cell_type": "markdown",
   "metadata": {},
   "source": [
    "We create mongodb of above JSON report using below command on shell \n",
    "mongoimport.exe --db test --collection delhi --file <filepath>/new-delhi_india.json"
   ]
  },
  {
   "cell_type": "code",
   "execution_count": 3,
   "metadata": {
    "collapsed": true
   },
   "outputs": [],
   "source": [
    "# we create pymongo instance to query data base\n",
    "import pprint\n",
    "import pymongo\n",
    "from pymongo import MongoClient \n",
    "client = MongoClient(\"mongodb://localhost:27017\")\n",
    "db = client.test"
   ]
  },
  {
   "cell_type": "markdown",
   "metadata": {},
   "source": [
    "## Problems Encountered in the Map"
   ]
  },
  {
   "cell_type": "markdown",
   "metadata": {},
   "source": [
    "Exploration of map data showed lots of problems in data. Below are list of some of problems. I have also selected few queries to illustrate problems."
   ]
  },
  {
   "cell_type": "markdown",
   "metadata": {},
   "source": [
    "#### Accuracy of Postal Code\n",
    "For Delhi, postal code is six digit code. But some of postal codes present in data were\n",
    "    - Non numeric character\n",
    "    - Contains spaces between digits\n",
    "    - Contains less or more than six digits  \n",
    "    \n",
    "Some of examples of faulty postal codes present in database are:-\n",
    "* 2242\n",
    "* Sunpat House Village\n",
    "* sdf\n",
    "* 110 001"
   ]
  },
  {
   "cell_type": "markdown",
   "metadata": {},
   "source": [
    "#### Inconsistency in amenity labels\n",
    "There seems to be a lack of common glossary for various type of amenties. Some of problem were-\n",
    "    - Mixture of lower case and upper case properties of same name.\n",
    "    - Synomous words are being used e.g. bar/pub, doctor/clinic\n",
    "    - some of amenity were having non-generic labels like \"Netaji Nagar Market\" and \"Bawana Bus depot\"."
   ]
  },
  {
   "cell_type": "code",
   "execution_count": 4,
   "metadata": {
    "collapsed": false
   },
   "outputs": [
    {
     "data": {
      "text/plain": [
       "22"
      ]
     },
     "execution_count": 4,
     "metadata": {},
     "output_type": "execute_result"
    }
   ],
   "source": [
    "db.delhi.find({\"amenity\":\"bar\"}).count()"
   ]
  },
  {
   "cell_type": "code",
   "execution_count": 5,
   "metadata": {
    "collapsed": false
   },
   "outputs": [
    {
     "data": {
      "text/plain": [
       "5"
      ]
     },
     "execution_count": 5,
     "metadata": {},
     "output_type": "execute_result"
    }
   ],
   "source": [
    "# pub and bar could be merged\n",
    "db.delhi.find({\"amenity\":\"pub\"}).count()"
   ]
  },
  {
   "cell_type": "markdown",
   "metadata": {},
   "source": [
    "#### Incompleteness of data\n",
    "We found lots of incomplete information in data like-\n",
    "    - name of amenity missing in lots of node.\n",
    "    - incomplete addresses like missing postcode.\n",
    "    - important labels like religion missing from places of worships."
   ]
  },
  {
   "cell_type": "code",
   "execution_count": 6,
   "metadata": {
    "collapsed": false
   },
   "outputs": [
    {
     "name": "stdout",
     "output_type": "stream",
     "text": [
      "[{u'_id': u'school', u'count': 403},\n",
      " {u'_id': u'place_of_worship', u'count': 239},\n",
      " {u'_id': u'restaurant', u'count': 150},\n",
      " {u'_id': u'hospital', u'count': 139},\n",
      " {u'_id': u'bank', u'count': 118},\n",
      " {u'_id': u'fast_food', u'count': 92},\n",
      " {u'_id': u'college', u'count': 91},\n",
      " {u'_id': u'fuel', u'count': 88},\n",
      " {u'_id': u'atm', u'count': 71},\n",
      " {u'_id': u'parking', u'count': 65}]\n"
     ]
    }
   ],
   "source": [
    "# amenities with name not specified\n",
    "agg = db.delhi.aggregate([{\"$match\":{\"amenity\":{\"$exists\":\"true\"}, \"name\":{\"$exists\":\"false\"}}},\n",
    "                            {\"$group\":{\"_id\":\"$amenity\", \"count\":{\"$sum\":1}}},\n",
    "                            {\"$sort\":{\"count\":-1}},\n",
    "                            {\"$limit\":10}])\n",
    "pprint.pprint(list(agg))"
   ]
  },
  {
   "cell_type": "markdown",
   "metadata": {},
   "source": [
    "#### Inconsistency in abbreviation of \"Government\" in name of amenities\n",
    "We found that in name of Governement amenities abbreviation of \"Government\" is non standard e.g. following are some of different abbreviatio used.\n",
    "- Govt.\n",
    "- Govt\n",
    "- govt\n",
    "- govt."
   ]
  },
  {
   "cell_type": "markdown",
   "metadata": {},
   "source": [
    "## Data Cleaning"
   ]
  },
  {
   "cell_type": "markdown",
   "metadata": {},
   "source": [
    "We solved some of problems with data programatically like\n",
    "- removed invalid postal code with non-numeric characters and not adhering to specified number of digits.\n",
    "    * We made sure that our postal code of Delhi is a 6 digit number by regular expression r'^\\d{6}$'\n",
    "- removed white spaces with otherwise valid postal code.\n",
    "- mapped some of amenities to unified glossary like changing clinic to doctors and pub to bar.\n",
    "- Used a common abbereviation in \"Government\" named amenities."
   ]
  },
  {
   "cell_type": "code",
   "execution_count": 7,
   "metadata": {
    "collapsed": false
   },
   "outputs": [],
   "source": [
    "# extracting new cleaned-data.\n",
    "process_map(\"new-delhi_india.osm\", isClean = True)"
   ]
  },
  {
   "cell_type": "markdown",
   "metadata": {},
   "source": [
    "With this new extracted JSON, we create another cleaned collection delhi1 in MongoDb."
   ]
  },
  {
   "cell_type": "markdown",
   "metadata": {},
   "source": [
    "## Overview of Data"
   ]
  },
  {
   "cell_type": "markdown",
   "metadata": {},
   "source": [
    "Here MongoDb queries are run for basic statistics of cleaned Delhi's map."
   ]
  },
  {
   "cell_type": "code",
   "execution_count": 8,
   "metadata": {
    "collapsed": false
   },
   "outputs": [
    {
     "data": {
      "text/plain": [
       "719136645L"
      ]
     },
     "execution_count": 8,
     "metadata": {},
     "output_type": "execute_result"
    }
   ],
   "source": [
    "import os\n",
    "os.path.getsize(\"new-delhi_india.osm\")"
   ]
  },
  {
   "cell_type": "markdown",
   "metadata": {},
   "source": [
    "Size of OSM file for New Delhi is 719MB."
   ]
  },
  {
   "cell_type": "code",
   "execution_count": 9,
   "metadata": {
    "collapsed": false
   },
   "outputs": [
    {
     "data": {
      "text/plain": [
       "3932112"
      ]
     },
     "execution_count": 9,
     "metadata": {},
     "output_type": "execute_result"
    }
   ],
   "source": [
    "# Number of documents\n",
    "db.delhi1.find().count()"
   ]
  },
  {
   "cell_type": "code",
   "execution_count": 10,
   "metadata": {
    "collapsed": false
   },
   "outputs": [
    {
     "data": {
      "text/plain": [
       "3272109"
      ]
     },
     "execution_count": 10,
     "metadata": {},
     "output_type": "execute_result"
    }
   ],
   "source": [
    "# Number of nodes\n",
    "db.delhi1.find({\"type\":\"node\"}).count()"
   ]
  },
  {
   "cell_type": "code",
   "execution_count": 11,
   "metadata": {
    "collapsed": false
   },
   "outputs": [
    {
     "data": {
      "text/plain": [
       "659854"
      ]
     },
     "execution_count": 11,
     "metadata": {},
     "output_type": "execute_result"
    }
   ],
   "source": [
    "#number of ways\n",
    "db.delhi1.find({\"type\":\"way\"}).count()"
   ]
  },
  {
   "cell_type": "code",
   "execution_count": 12,
   "metadata": {
    "collapsed": false
   },
   "outputs": [
    {
     "data": {
      "text/plain": [
       "946"
      ]
     },
     "execution_count": 12,
     "metadata": {},
     "output_type": "execute_result"
    }
   ],
   "source": [
    "# number of unique users\n",
    "len(db.delhi1.distinct(\"created.user\"))"
   ]
  },
  {
   "cell_type": "code",
   "execution_count": 13,
   "metadata": {
    "collapsed": false
   },
   "outputs": [
    {
     "name": "stdout",
     "output_type": "stream",
     "text": [
      "[{u'_id': u'Oberaffe', u'count': 260843},\n",
      " {u'_id': u'saikumar', u'count': 158503},\n",
      " {u'_id': u'premkumar', u'count': 154670},\n",
      " {u'_id': u'sdivya', u'count': 130144},\n",
      " {u'_id': u'anushap', u'count': 122224}]\n"
     ]
    }
   ],
   "source": [
    "# Top 5 contributing users\n",
    "agg = db.delhi1.aggregate([{\"$group\":{\"_id\":\"$created.user\", \"count\":{\"$sum\":1}}}, {\"$sort\":{\"count\":-1}}, {\"$limit\":5}])\n",
    "pprint.pprint(list(agg))"
   ]
  },
  {
   "cell_type": "code",
   "execution_count": 14,
   "metadata": {
    "collapsed": false
   },
   "outputs": [
    {
     "name": "stdout",
     "output_type": "stream",
     "text": [
      "[{u'_id': 1, u'num_users': 184}]\n"
     ]
    }
   ],
   "source": [
    "# numbers of users appearing only once\n",
    "agg = db.delhi1.aggregate([{\"$group\":{\"_id\":\"$created.user\", \"count\":{\"$sum\":1}}}, \n",
    "                           {\"$group\":{\"_id\":\"$count\", \"num_users\":{\"$sum\":1}}},\n",
    "                           {\"$sort\":{\"_id\":1}}, {\"$limit\":1}])\n",
    "pprint.pprint(list(agg))"
   ]
  },
  {
   "cell_type": "code",
   "execution_count": 15,
   "metadata": {
    "collapsed": false
   },
   "outputs": [
    {
     "name": "stdout",
     "output_type": "stream",
     "text": [
      "[{u'_id': u'school', u'count': 902},\n",
      " {u'_id': u'place_of_worship', u'count': 328},\n",
      " {u'_id': u'parking', u'count': 327},\n",
      " {u'_id': u'fuel', u'count': 212},\n",
      " {u'_id': u'hospital', u'count': 184},\n",
      " {u'_id': u'restaurant', u'count': 166},\n",
      " {u'_id': u'atm', u'count': 150},\n",
      " {u'_id': u'bank', u'count': 133},\n",
      " {u'_id': u'college', u'count': 128},\n",
      " {u'_id': u'fast_food', u'count': 106}]\n"
     ]
    }
   ],
   "source": [
    "# top 10 appearing amenities\n",
    "agg = db.delhi1.aggregate([{\"$match\":{\"amenity\":{\"$exists\":1}}}, \n",
    "                           {\"$group\":{\"_id\":\"$amenity\", \"count\":{\"$sum\":1}}},\n",
    "                           {\"$sort\":{\"count\":-1}},\n",
    "                           {\"$limit\":10}])\n",
    "pprint.pprint(list(agg))"
   ]
  },
  {
   "cell_type": "code",
   "execution_count": 16,
   "metadata": {
    "collapsed": false
   },
   "outputs": [
    {
     "name": "stdout",
     "output_type": "stream",
     "text": [
      "[{u'_id': u'historic', u'count': 189}]\n"
     ]
    }
   ],
   "source": [
    "# Numbers of historic sites\n",
    "agg = db.delhi1.aggregate([{\"$match\":{\"historic\":{\"$exists\":\"true\"}}},\n",
    "                          {\"$group\":{\"_id\": \"historic\", \"count\": {\"$sum\":1}}}])\n",
    "pprint.pprint(list(agg))"
   ]
  },
  {
   "cell_type": "markdown",
   "metadata": {},
   "source": [
    "Delhi being a historic city has lots of heritage places which appears in above results also."
   ]
  },
  {
   "cell_type": "code",
   "execution_count": 17,
   "metadata": {
    "collapsed": false
   },
   "outputs": [
    {
     "data": {
      "text/plain": [
       "62"
      ]
     },
     "execution_count": 17,
     "metadata": {},
     "output_type": "execute_result"
    }
   ],
   "source": [
    "# Number of tourism attractions\n",
    "db.delhi1.find({\"tourism\":\"attraction\"}).count()"
   ]
  },
  {
   "cell_type": "code",
   "execution_count": 18,
   "metadata": {
    "collapsed": false
   },
   "outputs": [
    {
     "name": "stdout",
     "output_type": "stream",
     "text": [
      "21\n"
     ]
    }
   ],
   "source": [
    "# Numbers of historic tourism attractions\n",
    "agg = db.delhi1.aggregate([{\"$match\":{\"historic\":{\"$exists\":\"true\"}, \"tourism\":{\"$exists\":\"true\"}, \"tourism\":\"attraction\"}}])\n",
    "pprint.pprint(len(list(agg)))"
   ]
  },
  {
   "cell_type": "code",
   "execution_count": 19,
   "metadata": {
    "collapsed": false
   },
   "outputs": [
    {
     "data": {
      "text/plain": [
       "902"
      ]
     },
     "execution_count": 19,
     "metadata": {},
     "output_type": "execute_result"
    }
   ],
   "source": [
    "# Numbers of schools\n",
    "db.delhi1.find({\"amenity\":\"school\"}).count()"
   ]
  },
  {
   "cell_type": "code",
   "execution_count": 20,
   "metadata": {
    "collapsed": false
   },
   "outputs": [
    {
     "name": "stdout",
     "output_type": "stream",
     "text": [
      "[{u'_id': None, u'count': 499},\n",
      " {u'_id': u'Delhi Public School', u'count': 7},\n",
      " {u'_id': u'Kendriya Vidyalaya', u'count': 5},\n",
      " {u'_id': u'Government School', u'count': 5},\n",
      " {u'_id': u'Ryan International School', u'count': 3},\n",
      " {u'_id': u'Modern School', u'count': 3},\n",
      " {u'_id': u'Salwan Public School', u'count': 3},\n",
      " {u'_id': u'Manav Sthali School', u'count': 3},\n",
      " {u'_id': u'DAV School', u'count': 2},\n",
      " {u'_id': u'Blind School', u'count': 2}]\n"
     ]
    }
   ],
   "source": [
    "# Top 10 school names\n",
    "agg = db.delhi1.aggregate([{\"$match\":{\"amenity\":{\"$exists\":\"true\"}, \"amenity\":\"school\"}},\n",
    "                        {\"$group\":{\"_id\":\"$name\", \"count\":{\"$sum\":1}}},\n",
    "                        {\"$sort\":{\"count\":-1}},\n",
    "                        {\"$limit\":10}])\n",
    "pprint.pprint(list(agg))"
   ]
  },
  {
   "cell_type": "code",
   "execution_count": 21,
   "metadata": {
    "collapsed": false
   },
   "outputs": [
    {
     "data": {
      "text/plain": [
       "35"
      ]
     },
     "execution_count": 21,
     "metadata": {},
     "output_type": "execute_result"
    }
   ],
   "source": [
    "# Number of universities\n",
    "db.delhi1.find({\"amenity\":\"university\"}).count()"
   ]
  },
  {
   "cell_type": "code",
   "execution_count": 22,
   "metadata": {
    "collapsed": false
   },
   "outputs": [
    {
     "data": {
      "text/plain": [
       "128"
      ]
     },
     "execution_count": 22,
     "metadata": {},
     "output_type": "execute_result"
    }
   ],
   "source": [
    "# Number of colleges\n",
    "db.delhi1.find({\"amenity\":\"college\"}).count()"
   ]
  },
  {
   "cell_type": "code",
   "execution_count": 23,
   "metadata": {
    "collapsed": false
   },
   "outputs": [
    {
     "data": {
      "text/plain": [
       "41"
      ]
     },
     "execution_count": 23,
     "metadata": {},
     "output_type": "execute_result"
    }
   ],
   "source": [
    "# Number of embassy\n",
    "db.delhi1.find({\"amenity\":\"embassy\"}).count()"
   ]
  },
  {
   "cell_type": "code",
   "execution_count": 24,
   "metadata": {
    "collapsed": false
   },
   "outputs": [
    {
     "name": "stdout",
     "output_type": "stream",
     "text": [
      "[{u'_id': u'hindu', u'count': 132},\n",
      " {u'_id': None, u'count': 75},\n",
      " {u'_id': u'muslim', u'count': 47},\n",
      " {u'_id': u'christian', u'count': 34},\n",
      " {u'_id': u'sikh', u'count': 29},\n",
      " {u'_id': u'jain', u'count': 6},\n",
      " {u'_id': u'buddhist', u'count': 3},\n",
      " {u'_id': u'bahai', u'count': 1},\n",
      " {u'_id': u'zoroastrian', u'count': 1}]\n"
     ]
    }
   ],
   "source": [
    "# Top religions\n",
    "agg = db.delhi1.aggregate([{\"$match\":{\"amenity\":{\"$exists\":1}, \"amenity\":\"place_of_worship\"}},\n",
    "                    {\"$group\":{\"_id\":\"$religion\", \"count\": {\"$sum\":1}}},\n",
    "                    {\"$sort\":{\"count\":-1}}])\n",
    "pprint.pprint(list(agg))"
   ]
  },
  {
   "cell_type": "markdown",
   "metadata": {},
   "source": [
    "Hindu is predominant religion as expected per demographics of India."
   ]
  },
  {
   "cell_type": "code",
   "execution_count": 25,
   "metadata": {
    "collapsed": false
   },
   "outputs": [
    {
     "name": "stdout",
     "output_type": "stream",
     "text": [
      "[{u'name': u'Jama Masjid'},\n",
      " {u'name': u'Lotus Temple'},\n",
      " {u'name': u'Moth Ki Masjid'}]\n"
     ]
    }
   ],
   "source": [
    "# places of worship that are tourist attractions\n",
    "agg = db.delhi1.aggregate([{\"$match\":{\"amenity\":{\"$exists\":1}, \"amenity\":\"place_of_worship\", \"tourism\":{\"$exists\":1}}},\n",
    "                          {\"$project\":{\"name\":1,\"_id\":0}}])\n",
    "pprint.pprint(list(agg))"
   ]
  },
  {
   "cell_type": "code",
   "execution_count": 26,
   "metadata": {
    "collapsed": false
   },
   "outputs": [
    {
     "name": "stdout",
     "output_type": "stream",
     "text": [
      "[{u'_id': None, u'count': 104},\n",
      " {u'_id': u'indian', u'count': 13},\n",
      " {u'_id': u'regional', u'count': 8},\n",
      " {u'_id': u'pizza', u'count': 7},\n",
      " {u'_id': u'chinese', u'count': 5}]\n"
     ]
    }
   ],
   "source": [
    "# Popular cuisine resaurants\n",
    "agg = db.delhi1.aggregate([{\"$match\":{\"amenity\":{\"$exists\":1}, \"amenity\":\"restaurant\"}},\n",
    "                           {\"$group\":{\"_id\":\"$cuisine\", \"count\":{\"$sum\":1}}},\n",
    "                           {\"$sort\":{\"count\":-1}},\n",
    "                           {\"$limit\":5}])\n",
    "pprint.pprint(list(agg))"
   ]
  },
  {
   "cell_type": "markdown",
   "metadata": {},
   "source": [
    "## Additional Ideas"
   ]
  },
  {
   "cell_type": "markdown",
   "metadata": {},
   "source": [
    "#### STANDARDISATION OF GLOSSARY"
   ]
  },
  {
   "cell_type": "markdown",
   "metadata": {},
   "source": [
    "There seem to be a missing unified terminology for data. We could make standard glossary so that terms across the data could be consistent.\n",
    "This standardisation would also combat false terms being inserted like amenity of type \"Bawana Bus Depot\", which is just a particular instance of Bus Depot."
   ]
  },
  {
   "cell_type": "markdown",
   "metadata": {},
   "source": [
    "One drawback of standardization is that it could hinder development of addition types and might make addition of new data tedious."
   ]
  },
  {
   "cell_type": "markdown",
   "metadata": {},
   "source": [
    "#### IMPUTATION OF MISSING DATA"
   ]
  },
  {
   "cell_type": "markdown",
   "metadata": {},
   "source": [
    "It is possible to fill lots of missing data using imputation with available data. Some of examples are-\n",
    "- postcode of a place could be known from its street address.\n",
    "- religion of a place of worship could be known through keywords like \"temple\", \"mandir\" or \"mosque\" in name.\n",
    "- If word like fort or tomb appears, then it is likely to be a historic place."
   ]
  },
  {
   "cell_type": "markdown",
   "metadata": {},
   "source": [
    "This approach of filling missing data might introduce extra errors in data e.g. there might be duplicate street name with different postcode or it might be that we propgate messy data by using it in imputation."
   ]
  }
 ],
 "metadata": {
  "kernelspec": {
   "display_name": "Python 2",
   "language": "python",
   "name": "python2"
  },
  "language_info": {
   "codemirror_mode": {
    "name": "ipython",
    "version": 2
   },
   "file_extension": ".py",
   "mimetype": "text/x-python",
   "name": "python",
   "nbconvert_exporter": "python",
   "pygments_lexer": "ipython2",
   "version": "2.7.11"
  }
 },
 "nbformat": 4,
 "nbformat_minor": 0
}
